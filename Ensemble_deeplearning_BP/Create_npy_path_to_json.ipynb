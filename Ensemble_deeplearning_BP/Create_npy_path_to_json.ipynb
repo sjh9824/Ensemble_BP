{
 "cells": [
  {
   "cell_type": "code",
   "execution_count": 7,
   "metadata": {},
   "outputs": [],
   "source": [
    "import os\n",
    "import json\n",
    "from natsort import natsorted"
   ]
  },
  {
   "cell_type": "code",
   "execution_count": 8,
   "metadata": {},
   "outputs": [],
   "source": [
    "def get_bp_data(bp_json_path):\n",
    "    with open(bp_json_path, 'r') as f:\n",
    "        bp_data = json.load(f)\n",
    "    return bp_data"
   ]
  },
  {
   "cell_type": "code",
   "execution_count": 9,
   "metadata": {},
   "outputs": [],
   "source": [
    "def create_data_structure(root_dir, bp_json_path, output_json_path):\n",
    "    bp_data = get_bp_data(bp_json_path)\n",
    "    data_structure = {}\n",
    "\n",
    "    # subject 폴더를 자연스럽게 오름차순으로 정렬\n",
    "    subject_folders = natsorted([f for f in os.listdir(root_dir) if os.path.isdir(os.path.join(root_dir, f)) and f.startswith(\"subject\")])\n",
    "\n",
    "    for subject in subject_folders:\n",
    "        subject_dir = os.path.join(root_dir, subject)\n",
    "        subject_id = subject\n",
    "\n",
    "        # 초기화\n",
    "        data_structure[subject_id] = {}\n",
    "        \n",
    "        # RGB와 YUV 폴더 경로\n",
    "        rgb_dir = os.path.join(subject_dir, \"RGB\")\n",
    "        yuv_dir = os.path.join(subject_dir, \"YUV\")\n",
    "        \n",
    "        # BP 데이터 가져오기\n",
    "        if subject_id in bp_data and \"BP\" in bp_data[subject_id]:\n",
    "            bp_sys = bp_data[subject_id][\"BP\"][\"bp_sys\"]\n",
    "            bp_dia = bp_data[subject_id][\"BP\"][\"bp_dia\"]\n",
    "            bp = [bp_sys, bp_dia]\n",
    "        else:\n",
    "            print(f\"Warning: BP data not found for {subject_id}.\")\n",
    "            bp = [None, None]\n",
    "        \n",
    "        # npy 파일 경로 수집\n",
    "        for i, (rgb_file, yuv_file) in enumerate(zip(sorted(os.listdir(rgb_dir)), sorted(os.listdir(yuv_dir)))):\n",
    "            if rgb_file.endswith(\".npy\") and yuv_file.endswith(\".npy\"):\n",
    "                data_structure[subject_id][f\"input{i}\"] = {\n",
    "                    \"RGB\": os.path.join(rgb_dir, rgb_file),\n",
    "                    \"YUV\": os.path.join(yuv_dir, yuv_file),\n",
    "                    \"BP\": bp\n",
    "                }\n",
    "\n",
    "    # JSON 파일로 저장\n",
    "    with open(output_json_path, 'w') as f:\n",
    "        json.dump(data_structure, f, indent=4)"
   ]
  },
  {
   "cell_type": "code",
   "execution_count": 10,
   "metadata": {},
   "outputs": [],
   "source": [
    "root_dir = \"\"\n",
    "bp_json_path = \"\"\n",
    "output_json_path = \"\"\n",
    "\n",
    "# JSON 파일 생성\n",
    "create_data_structure(root_dir, bp_json_path, output_json_path)"
   ]
  }
 ],
 "metadata": {
  "kernelspec": {
   "display_name": "rppg-toolbox",
   "language": "python",
   "name": "python3"
  },
  "language_info": {
   "codemirror_mode": {
    "name": "ipython",
    "version": 3
   },
   "file_extension": ".py",
   "mimetype": "text/x-python",
   "name": "python",
   "nbconvert_exporter": "python",
   "pygments_lexer": "ipython3",
   "version": "3.8.19"
  }
 },
 "nbformat": 4,
 "nbformat_minor": 2
}
